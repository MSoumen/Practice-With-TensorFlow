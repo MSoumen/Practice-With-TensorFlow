{
  "nbformat": 4,
  "nbformat_minor": 0,
  "metadata": {
    "colab": {
      "name": "CNN-Testing.ipynb",
      "provenance": [],
      "collapsed_sections": [],
      "authorship_tag": "ABX9TyOu6Pgg0KzJua+gdNUjdqcg",
      "include_colab_link": true
    },
    "kernelspec": {
      "name": "python3",
      "display_name": "Python 3"
    },
    "accelerator": "GPU"
  },
  "cells": [
    {
      "cell_type": "markdown",
      "metadata": {
        "id": "view-in-github",
        "colab_type": "text"
      },
      "source": [
        "<a href=\"https://colab.research.google.com/github/MSoumen/Practice-With-TensorFlow/blob/master/CNN_Testing.ipynb\" target=\"_parent\"><img src=\"https://colab.research.google.com/assets/colab-badge.svg\" alt=\"Open In Colab\"/></a>"
      ]
    },
    {
      "cell_type": "code",
      "metadata": {
        "id": "d3WwvXwOv5Hd",
        "colab_type": "code",
        "colab": {}
      },
      "source": [
        "import tensorflow as tf\n",
        "from tensorflow import keras as tk"
      ],
      "execution_count": 0,
      "outputs": []
    },
    {
      "cell_type": "code",
      "metadata": {
        "id": "Fs1mP7_NwbFM",
        "colab_type": "code",
        "colab": {}
      },
      "source": [
        "model= tk.models.Sequential([tk.layers.Conv2D(filters=64, kernel_size=(4,4), activation='relu', input_shape=(28,28,1)),\n",
        "                             tk.layers.MaxPooling2D(pool_size=(4,4)),\n",
        "                             tk.layers.Conv2D(filters=64, kernel_size=(3,3), activation='relu'),\n",
        "                             tk.layers.MaxPooling2D(pool_size=(2,2)),\n",
        "                             tk.layers.Flatten(),\n",
        "                             tk.layers.Dense(units=128, activation='relu'),\n",
        "                             tk.layers.Dense(units=10, activation='softmax')])"
      ],
      "execution_count": 0,
      "outputs": []
    },
    {
      "cell_type": "code",
      "metadata": {
        "id": "ajcq0WNN2A_o",
        "colab_type": "code",
        "outputId": "827efbb7-9cdd-4771-bd5a-30298adcc179",
        "colab": {
          "base_uri": "https://localhost:8080/",
          "height": 386
        }
      },
      "source": [
        "model.summary()"
      ],
      "execution_count": 0,
      "outputs": [
        {
          "output_type": "stream",
          "text": [
            "Model: \"sequential_5\"\n",
            "_________________________________________________________________\n",
            "Layer (type)                 Output Shape              Param #   \n",
            "=================================================================\n",
            "conv2d_10 (Conv2D)           (None, 25, 25, 64)        1088      \n",
            "_________________________________________________________________\n",
            "max_pooling2d_10 (MaxPooling (None, 6, 6, 64)          0         \n",
            "_________________________________________________________________\n",
            "conv2d_11 (Conv2D)           (None, 4, 4, 64)          36928     \n",
            "_________________________________________________________________\n",
            "max_pooling2d_11 (MaxPooling (None, 2, 2, 64)          0         \n",
            "_________________________________________________________________\n",
            "flatten_5 (Flatten)          (None, 256)               0         \n",
            "_________________________________________________________________\n",
            "dense_10 (Dense)             (None, 128)               32896     \n",
            "_________________________________________________________________\n",
            "dense_11 (Dense)             (None, 10)                1290      \n",
            "=================================================================\n",
            "Total params: 72,202\n",
            "Trainable params: 72,202\n",
            "Non-trainable params: 0\n",
            "_________________________________________________________________\n"
          ],
          "name": "stdout"
        }
      ]
    },
    {
      "cell_type": "code",
      "metadata": {
        "id": "F3Smb1lI2Slx",
        "colab_type": "code",
        "colab": {}
      },
      "source": [
        ""
      ],
      "execution_count": 0,
      "outputs": []
    },
    {
      "cell_type": "markdown",
      "metadata": {
        "id": "Mo7mxlM-62ix",
        "colab_type": "text"
      },
      "source": [
        "# Improving MNIST using Convolutions"
      ]
    },
    {
      "cell_type": "code",
      "metadata": {
        "id": "VZcXSVrv7Bnb",
        "colab_type": "code",
        "outputId": "96a39503-8a0d-49c6-a947-29eb58aa15f6",
        "colab": {
          "base_uri": "https://localhost:8080/",
          "height": 171
        }
      },
      "source": [
        "# import data\n",
        "mnist= tk.datasets.fashion_mnist\n",
        "(training_imgs,training_labels),(testing_imgs,testing_labels)= mnist.load_data()\n",
        "train_data= training_imgs/255\n",
        "test_data= testing_imgs/255"
      ],
      "execution_count": 0,
      "outputs": [
        {
          "output_type": "stream",
          "text": [
            "Downloading data from https://storage.googleapis.com/tensorflow/tf-keras-datasets/train-labels-idx1-ubyte.gz\n",
            "32768/29515 [=================================] - 0s 0us/step\n",
            "Downloading data from https://storage.googleapis.com/tensorflow/tf-keras-datasets/train-images-idx3-ubyte.gz\n",
            "26427392/26421880 [==============================] - 0s 0us/step\n",
            "Downloading data from https://storage.googleapis.com/tensorflow/tf-keras-datasets/t10k-labels-idx1-ubyte.gz\n",
            "8192/5148 [===============================================] - 0s 0us/step\n",
            "Downloading data from https://storage.googleapis.com/tensorflow/tf-keras-datasets/t10k-images-idx3-ubyte.gz\n",
            "4423680/4422102 [==============================] - 0s 0us/step\n"
          ],
          "name": "stdout"
        }
      ]
    },
    {
      "cell_type": "code",
      "metadata": {
        "id": "H8eZJN468jV4",
        "colab_type": "code",
        "outputId": "3b4ba091-9c88-4830-e7d0-ffc18fe7b16e",
        "colab": {
          "base_uri": "https://localhost:8080/",
          "height": 222
        }
      },
      "source": [
        "# using DNN\n",
        "model= tk.models.Sequential([\n",
        "                             tk.layers.Flatten(),\n",
        "                             tk.layers.Dense(128, activation=tf.nn.relu),\n",
        "                             tk.layers.Dense(units=10, activation=tf.nn.softmax)\n",
        "])\n",
        "\n",
        "model.compile(optimizer='adam', loss='sparse_categorical_crossentropy', metrics=['accuracy'])\n",
        "model.fit(train_data, training_labels, epochs=5)"
      ],
      "execution_count": 0,
      "outputs": [
        {
          "output_type": "stream",
          "text": [
            "Epoch 1/5\n",
            "1875/1875 [==============================] - 3s 2ms/step - loss: 0.4987 - accuracy: 0.8252\n",
            "Epoch 2/5\n",
            "1875/1875 [==============================] - 3s 2ms/step - loss: 0.3757 - accuracy: 0.8652\n",
            "Epoch 3/5\n",
            "1875/1875 [==============================] - 3s 2ms/step - loss: 0.3365 - accuracy: 0.8774\n",
            "Epoch 4/5\n",
            "1875/1875 [==============================] - 3s 2ms/step - loss: 0.3135 - accuracy: 0.8857\n",
            "Epoch 5/5\n",
            "1875/1875 [==============================] - 3s 2ms/step - loss: 0.2971 - accuracy: 0.8897\n"
          ],
          "name": "stdout"
        },
        {
          "output_type": "execute_result",
          "data": {
            "text/plain": [
              "<tensorflow.python.keras.callbacks.History at 0x7fd65042ea20>"
            ]
          },
          "metadata": {
            "tags": []
          },
          "execution_count": 4
        }
      ]
    },
    {
      "cell_type": "code",
      "metadata": {
        "id": "DsBfDsaY-vhG",
        "colab_type": "code",
        "outputId": "38748cbf-8339-4530-d858-58fbf2ec185b",
        "colab": {
          "base_uri": "https://localhost:8080/",
          "height": 70
        }
      },
      "source": [
        "model.evaluate(test_data, testing_labels)"
      ],
      "execution_count": 0,
      "outputs": [
        {
          "output_type": "stream",
          "text": [
            "313/313 [==============================] - 0s 2ms/step - loss: 0.3578 - accuracy: 0.8707\n"
          ],
          "name": "stdout"
        },
        {
          "output_type": "execute_result",
          "data": {
            "text/plain": [
              "[0.3578115999698639, 0.8707000017166138]"
            ]
          },
          "metadata": {
            "tags": []
          },
          "execution_count": 5
        }
      ]
    },
    {
      "cell_type": "code",
      "metadata": {
        "id": "BG95M_7z-8U3",
        "colab_type": "code",
        "colab": {}
      },
      "source": [
        ""
      ],
      "execution_count": 0,
      "outputs": []
    },
    {
      "cell_type": "markdown",
      "metadata": {
        "id": "K2fkkVca_8pu",
        "colab_type": "text"
      },
      "source": [
        "# ** Using CNN **"
      ]
    },
    {
      "cell_type": "code",
      "metadata": {
        "id": "YgSF_oB3_eSd",
        "colab_type": "code",
        "colab": {}
      },
      "source": [
        "# raeady Data\n",
        "training_imgs= training_imgs.reshape(60000, 28,28,1)\n",
        "train_data= training_imgs/255.0\n",
        "testing_imgs= testing_imgs.reshape(10000, 28,28,1)\n",
        "test_data= testing_imgs/255.0"
      ],
      "execution_count": 0,
      "outputs": []
    },
    {
      "cell_type": "code",
      "metadata": {
        "id": "XGMGMqWNAXpE",
        "colab_type": "code",
        "outputId": "e07d7dfe-b85b-4b5b-bdbe-d72c91023166",
        "colab": {
          "base_uri": "https://localhost:8080/",
          "height": 591
        }
      },
      "source": [
        "model= tk.models.Sequential([\n",
        "                             tk.layers.Conv2D(filters=64, kernel_size=(3,3), activation='relu', input_shape=(28,28,1)),\n",
        "                             tk.layers.MaxPooling2D(pool_size=(2,2)),\n",
        "                             tk.layers.Conv2D(filters=64, kernel_size=(3,3), activation='relu'),\n",
        "                             tk.layers.MaxPooling2D(pool_size=(2,2)),\n",
        "                             tk.layers.Flatten(),\n",
        "                             tk.layers.Dense(units=128, activation=tf.nn.relu),\n",
        "                             tk.layers.Dense(10, tf.nn.softmax)\n",
        "])\n",
        "model.compile(optimizer='adam', loss='sparse_categorical_crossentropy', metrics=['accuracy'])\n",
        "model.summary()\n",
        "model.fit(train_data, training_labels, epochs=5)"
      ],
      "execution_count": 0,
      "outputs": [
        {
          "output_type": "stream",
          "text": [
            "Model: \"sequential_1\"\n",
            "_________________________________________________________________\n",
            "Layer (type)                 Output Shape              Param #   \n",
            "=================================================================\n",
            "conv2d (Conv2D)              (None, 26, 26, 64)        640       \n",
            "_________________________________________________________________\n",
            "max_pooling2d (MaxPooling2D) (None, 13, 13, 64)        0         \n",
            "_________________________________________________________________\n",
            "conv2d_1 (Conv2D)            (None, 11, 11, 64)        36928     \n",
            "_________________________________________________________________\n",
            "max_pooling2d_1 (MaxPooling2 (None, 5, 5, 64)          0         \n",
            "_________________________________________________________________\n",
            "flatten_1 (Flatten)          (None, 1600)              0         \n",
            "_________________________________________________________________\n",
            "dense_2 (Dense)              (None, 128)               204928    \n",
            "_________________________________________________________________\n",
            "dense_3 (Dense)              (None, 10)                1290      \n",
            "=================================================================\n",
            "Total params: 243,786\n",
            "Trainable params: 243,786\n",
            "Non-trainable params: 0\n",
            "_________________________________________________________________\n",
            "Epoch 1/5\n",
            "1875/1875 [==============================] - 4s 2ms/step - loss: 0.4402 - accuracy: 0.8414\n",
            "Epoch 2/5\n",
            "1875/1875 [==============================] - 4s 2ms/step - loss: 0.2917 - accuracy: 0.8929\n",
            "Epoch 3/5\n",
            "1875/1875 [==============================] - 4s 2ms/step - loss: 0.2472 - accuracy: 0.9090\n",
            "Epoch 4/5\n",
            "1875/1875 [==============================] - 4s 2ms/step - loss: 0.2138 - accuracy: 0.9219\n",
            "Epoch 5/5\n",
            "1875/1875 [==============================] - 4s 2ms/step - loss: 0.1882 - accuracy: 0.9296\n"
          ],
          "name": "stdout"
        },
        {
          "output_type": "execute_result",
          "data": {
            "text/plain": [
              "<tensorflow.python.keras.callbacks.History at 0x7fd666d00668>"
            ]
          },
          "metadata": {
            "tags": []
          },
          "execution_count": 7
        }
      ]
    },
    {
      "cell_type": "code",
      "metadata": {
        "id": "w_ujhndbCjSH",
        "colab_type": "code",
        "outputId": "0dad1240-3f29-4591-a8c3-dbe415aabcb6",
        "colab": {
          "base_uri": "https://localhost:8080/",
          "height": 70
        }
      },
      "source": [
        "# Evaluates\n",
        "model.evaluate(test_data, testing_labels)"
      ],
      "execution_count": 0,
      "outputs": [
        {
          "output_type": "stream",
          "text": [
            "313/313 [==============================] - 1s 2ms/step - loss: 0.2454 - accuracy: 0.9099\n"
          ],
          "name": "stdout"
        },
        {
          "output_type": "execute_result",
          "data": {
            "text/plain": [
              "[0.24536263942718506, 0.9099000096321106]"
            ]
          },
          "metadata": {
            "tags": []
          },
          "execution_count": 8
        }
      ]
    },
    {
      "cell_type": "code",
      "metadata": {
        "id": "UQ9fzE0aEhtY",
        "colab_type": "code",
        "colab": {}
      },
      "source": [
        ""
      ],
      "execution_count": 0,
      "outputs": []
    },
    {
      "cell_type": "markdown",
      "metadata": {
        "id": "8_zZejnnFUyJ",
        "colab_type": "text"
      },
      "source": [
        "# Visulizing Convolutional and Pooling"
      ]
    },
    {
      "cell_type": "code",
      "metadata": {
        "id": "7SFxO1IRFbVw",
        "colab_type": "code",
        "outputId": "6c9c3aa1-3fde-4d5e-b70e-53b2498a4254",
        "colab": {
          "base_uri": "https://localhost:8080/",
          "height": 101
        }
      },
      "source": [
        "testing_labels[:100]"
      ],
      "execution_count": 0,
      "outputs": [
        {
          "output_type": "execute_result",
          "data": {
            "text/plain": [
              "array([9, 2, 1, 1, 6, 1, 4, 6, 5, 7, 4, 5, 7, 3, 4, 1, 2, 4, 8, 0, 2, 5,\n",
              "       7, 9, 1, 4, 6, 0, 9, 3, 8, 8, 3, 3, 8, 0, 7, 5, 7, 9, 6, 1, 3, 7,\n",
              "       6, 7, 2, 1, 2, 2, 4, 4, 5, 8, 2, 2, 8, 4, 8, 0, 7, 7, 8, 5, 1, 1,\n",
              "       2, 3, 9, 8, 7, 0, 2, 6, 2, 3, 1, 2, 8, 4, 1, 8, 5, 9, 5, 0, 3, 2,\n",
              "       0, 6, 5, 3, 6, 7, 1, 8, 0, 1, 4, 2], dtype=uint8)"
            ]
          },
          "metadata": {
            "tags": []
          },
          "execution_count": 9
        }
      ]
    },
    {
      "cell_type": "code",
      "metadata": {
        "id": "LynJMrVXHc3C",
        "colab_type": "code",
        "outputId": "85c0aae1-8291-439d-d1d1-7371c33c5094",
        "colab": {
          "base_uri": "https://localhost:8080/",
          "height": 268
        }
      },
      "source": [
        "import matplotlib.pyplot as plt\n",
        "f, axarr = plt.subplots(3,4)\n",
        "FIRST_IMAGE=0\n",
        "SECOND_IMAGE=7\n",
        "THIRD_IMAGE=26\n",
        "CONVOLUTION_NUMBER = 1\n",
        "from tensorflow.keras import models\n",
        "layer_outputs = [layer.output for layer in model.layers]\n",
        "activation_model = tf.keras.models.Model(inputs = model.input, outputs = layer_outputs)\n",
        "for x in range(0,4):\n",
        "  f1 = activation_model.predict(test_data[FIRST_IMAGE].reshape(1, 28, 28, 1))[x]\n",
        "  axarr[0,x].imshow(f1[0, : , :, CONVOLUTION_NUMBER], cmap='inferno')\n",
        "  axarr[0,x].grid(False)\n",
        "  f2 = activation_model.predict(test_data[SECOND_IMAGE].reshape(1, 28, 28, 1))[x]\n",
        "  axarr[1,x].imshow(f2[0, : , :, CONVOLUTION_NUMBER], cmap='inferno')\n",
        "  axarr[1,x].grid(False)\n",
        "  f3 = activation_model.predict(test_data[THIRD_IMAGE].reshape(1, 28, 28, 1))[x]\n",
        "  axarr[2,x].imshow(f3[0, : , :, CONVOLUTION_NUMBER], cmap='inferno')\n",
        "  axarr[2,x].grid(False)"
      ],
      "execution_count": 0,
      "outputs": [
        {
          "output_type": "display_data",
          "data": {
            "image/png": "[encoded data removed]",
            "text/plain": [
              "<Figure size 432x288 with 12 Axes>"
            ]
          },
          "metadata": {
            "tags": [],
            "needs_background": "light"
          }
        }
      ]
    },
    {
      "cell_type": "code",
      "metadata": {
        "id": "HZQNOOmAHfTl",
        "colab_type": "code",
        "colab": {}
      },
      "source": [
        ""
      ],
      "execution_count": 0,
      "outputs": []
    },
    {
      "cell_type": "markdown",
      "metadata": {
        "id": "sHzeEm45OwYi",
        "colab_type": "text"
      },
      "source": [
        "# Exercises"
      ]
    },
    {
      "cell_type": "code",
      "metadata": {
        "id": "T8c6xnJ4OzCv",
        "colab_type": "code",
        "colab": {
          "base_uri": "https://localhost:8080/",
          "height": 138
        },
        "outputId": "bca82657-8cf2-4b37-83ba-029aed6a1e3a"
      },
      "source": [
        "import tensorflow as tf\n",
        "# import Data\n",
        "mnist= tf.keras.datasets.mnist\n",
        "(training_imgs, training_labels),(testing_imgs, testing_labels)= mnist.load_data()\n",
        "print('Shape of Training Images: ', training_imgs.shape)\n",
        "print('Shape of Training Labels: ', training_labels.shape)\n",
        "print('Shape of Testing Images: ', testing_imgs.shape)\n",
        "print('Shape of Testing Labels: ', testing_labels.shape)"
      ],
      "execution_count": 1,
      "outputs": [
        {
          "output_type": "stream",
          "text": [
            "Downloading data from https://storage.googleapis.com/tensorflow/tf-keras-datasets/mnist.npz\n",
            "11493376/11490434 [==============================] - 0s 0us/step\n",
            "Shape of Training Images:  (60000, 28, 28)\n",
            "Shape of Training Labels:  (60000,)\n",
            "Shape of Testing Images:  (10000, 28, 28)\n",
            "Shape of Testing Labels:  (10000,)\n"
          ],
          "name": "stdout"
        }
      ]
    },
    {
      "cell_type": "code",
      "metadata": {
        "id": "73PXQO8_Pvi-",
        "colab_type": "code",
        "colab": {}
      },
      "source": [
        "# Reshape and Scale Data\n",
        "training_imgs= training_imgs.reshape(60000,28,28,1)\n",
        "testing_imgs= testing_imgs.reshape(10000,28,28,1)\n",
        "\n",
        "train_data= training_imgs/255.0  #pixel value range(0-255)\n",
        "test_data= testing_imgs/255.0"
      ],
      "execution_count": 0,
      "outputs": []
    },
    {
      "cell_type": "code",
      "metadata": {
        "id": "4AyZvCYyQmEn",
        "colab_type": "code",
        "colab": {
          "base_uri": "https://localhost:8080/",
          "height": 390
        },
        "outputId": "fc090155-20a2-476b-9f0f-9a41b0061fcb"
      },
      "source": [
        "# Make Model\n",
        "model= tf.keras.Sequential([\n",
        "  tf.keras.layers.Conv2D(filters=64,kernel_size=(3,3), activation='relu', input_shape=(28,28,1)),\n",
        "  tf.keras.layers.MaxPooling2D(pool_size=(2,2)),\n",
        "  # tf.keras.layers.Conv2D(32, (3,3), activation='relu'),\n",
        "  # tf.keras.layers.MaxPooling2D(2,2),\n",
        "  # tf.keras.layers.Conv2D(16, (3,3), activation='relu'),\n",
        "  # tf.keras.layers.MaxPooling2D(2,2),\n",
        "\n",
        "  tf.keras.layers.Flatten(),\n",
        "  tf.keras.layers.Dense(units=128, activation='relu'),\n",
        "  tf.keras.layers.Dense(10, activation='softmax')\n",
        "\n",
        "])\n",
        "model.compile(optimizer='adam', loss='sparse_categorical_crossentropy', metrics=['accuracy'])\n",
        "model.fit(train_data, training_labels, epochs=10)"
      ],
      "execution_count": 24,
      "outputs": [
        {
          "output_type": "stream",
          "text": [
            "Epoch 1/10\n",
            "1875/1875 [==============================] - 4s 2ms/step - loss: 0.1356 - accuracy: 0.9599\n",
            "Epoch 2/10\n",
            "1875/1875 [==============================] - 4s 2ms/step - loss: 0.0473 - accuracy: 0.9858\n",
            "Epoch 3/10\n",
            "1875/1875 [==============================] - 4s 2ms/step - loss: 0.0294 - accuracy: 0.9906\n",
            "Epoch 4/10\n",
            "1875/1875 [==============================] - 4s 2ms/step - loss: 0.0195 - accuracy: 0.9938\n",
            "Epoch 5/10\n",
            "1875/1875 [==============================] - 4s 2ms/step - loss: 0.0135 - accuracy: 0.9954\n",
            "Epoch 6/10\n",
            "1875/1875 [==============================] - 4s 2ms/step - loss: 0.0087 - accuracy: 0.9971\n",
            "Epoch 7/10\n",
            "1875/1875 [==============================] - 4s 2ms/step - loss: 0.0072 - accuracy: 0.9975\n",
            "Epoch 8/10\n",
            "1875/1875 [==============================] - 4s 2ms/step - loss: 0.0064 - accuracy: 0.9980\n",
            "Epoch 9/10\n",
            "1875/1875 [==============================] - 4s 2ms/step - loss: 0.0049 - accuracy: 0.9982\n",
            "Epoch 10/10\n",
            "1875/1875 [==============================] - 4s 2ms/step - loss: 0.0044 - accuracy: 0.9985\n"
          ],
          "name": "stdout"
        },
        {
          "output_type": "execute_result",
          "data": {
            "text/plain": [
              "<tensorflow.python.keras.callbacks.History at 0x7fdb48039f28>"
            ]
          },
          "metadata": {
            "tags": []
          },
          "execution_count": 24
        }
      ]
    },
    {
      "cell_type": "code",
      "metadata": {
        "id": "L-dPQ9NySPIw",
        "colab_type": "code",
        "colab": {
          "base_uri": "https://localhost:8080/",
          "height": 373
        },
        "outputId": "61053794-7f5a-4712-ced5-f1c0908de344"
      },
      "source": [
        "model.summary()\n",
        "model.evaluate(test_data, testing_labels)"
      ],
      "execution_count": 25,
      "outputs": [
        {
          "output_type": "stream",
          "text": [
            "Model: \"sequential_10\"\n",
            "_________________________________________________________________\n",
            "Layer (type)                 Output Shape              Param #   \n",
            "=================================================================\n",
            "conv2d_16 (Conv2D)           (None, 26, 26, 64)        640       \n",
            "_________________________________________________________________\n",
            "max_pooling2d_16 (MaxPooling (None, 13, 13, 64)        0         \n",
            "_________________________________________________________________\n",
            "flatten_10 (Flatten)         (None, 10816)             0         \n",
            "_________________________________________________________________\n",
            "dense_20 (Dense)             (None, 128)               1384576   \n",
            "_________________________________________________________________\n",
            "dense_21 (Dense)             (None, 10)                1290      \n",
            "=================================================================\n",
            "Total params: 1,386,506\n",
            "Trainable params: 1,386,506\n",
            "Non-trainable params: 0\n",
            "_________________________________________________________________\n",
            "313/313 [==============================] - 1s 2ms/step - loss: 0.0570 - accuracy: 0.9872\n"
          ],
          "name": "stdout"
        },
        {
          "output_type": "execute_result",
          "data": {
            "text/plain": [
              "[0.05704882740974426, 0.9872000217437744]"
            ]
          },
          "metadata": {
            "tags": []
          },
          "execution_count": 25
        }
      ]
    },
    {
      "cell_type": "markdown",
      "metadata": {
        "id": "NuszZadldk_s",
        "colab_type": "text"
      },
      "source": [
        "Here u can calculate the #Params using formule\n",
        " - (#input_nodes+1)* #output_nodes  (for Dense layers)\n",
        " - ("
      ]
    },
    {
      "cell_type": "markdown",
      "metadata": {
        "id": "xDDr41OvVZy_",
        "colab_type": "text"
      },
      "source": [
        "## Answer 1"
      ]
    },
    {
      "cell_type": "markdown",
      "metadata": {
        "id": "5Yni4aGATLe0",
        "colab_type": "text"
      },
      "source": [
        "Observation: \n",
        " - At 16 filters(i.e:Convolution) the accuracy on train_data = 0.9982 and test_data= 0.9871\n",
        " - At 32 filter the accuracy on train_data= 0.9984 and test_data= 0.9826\n",
        " - At 64 filter the accuracy on train_data= 0.9983 and test_data= 0.9875"
      ]
    },
    {
      "cell_type": "markdown",
      "metadata": {
        "id": "B9e6iDukUkCV",
        "colab_type": "text"
      },
      "source": [
        "Here for this type of Data Convolution filter of 64 is best"
      ]
    },
    {
      "cell_type": "markdown",
      "metadata": {
        "id": "X2zFfQ1lVeMF",
        "colab_type": "text"
      },
      "source": [
        "## Answer 2"
      ]
    },
    {
      "cell_type": "markdown",
      "metadata": {
        "id": "ZKceY0W_WP6r",
        "colab_type": "text"
      },
      "source": [
        "- With 2 Convolution layers having 64 filters accuracy on train_data= 0.9980 and test_data= 0.9730\n",
        "- Removing final Convolution layer gives accuracy on train_data= 0.9991 and test_data= 0.9870"
      ]
    },
    {
      "cell_type": "markdown",
      "metadata": {
        "id": "cyDu2TkDW_My",
        "colab_type": "text"
      },
      "source": [
        "## Answer 3"
      ]
    },
    {
      "cell_type": "markdown",
      "metadata": {
        "id": "up6EuC2JaOCh",
        "colab_type": "text"
      },
      "source": [
        "- Adding more Conv2D(upto 3) gives accuracy on train_data= 0.9898 and test_data= 0.9825"
      ]
    },
    {
      "cell_type": "code",
      "metadata": {
        "id": "tiPKe8khXBx0",
        "colab_type": "code",
        "colab": {}
      },
      "source": [
        ""
      ],
      "execution_count": 0,
      "outputs": []
    },
    {
      "cell_type": "markdown",
      "metadata": {
        "id": "JHQpdaKqgE-y",
        "colab_type": "text"
      },
      "source": [
        "## Answer 4"
      ]
    },
    {
      "cell_type": "markdown",
      "metadata": {
        "id": "QoLBLxVDgHwe",
        "colab_type": "text"
      },
      "source": [
        "- removing all Conv2D not 1st will give accuracy on train_data= 0.9985 and test_data= 0.9872"
      ]
    },
    {
      "cell_type": "markdown",
      "metadata": {
        "id": "9i7ZoX5Kg1Tw",
        "colab_type": "text"
      },
      "source": [
        "## Answer 5\n"
      ]
    },
    {
      "cell_type": "code",
      "metadata": {
        "id": "9C4lC9BvgGo5",
        "colab_type": "code",
        "colab": {
          "base_uri": "https://localhost:8080/",
          "height": 406
        },
        "outputId": "cb41f172-9e8f-45f9-e678-c7492d68918f"
      },
      "source": [
        "class myCallBacks(tf.keras.callbacks.Callback):\n",
        "  def when_epoch_ends(self, epoch, logs={}):\n",
        "    if(logs.get('acc') > ACCU_THRESHOLD):\n",
        "      print('Reached %2.2f%% accuracy, So stopped Training !'%(ACCU_THRESHOLD*100))\n",
        "      self.model.stop_training= True\n",
        "\n",
        "calllbacks= myCallBacks()\n",
        "\n",
        "\n",
        "model = tf.keras.models.Sequential([\n",
        "  tf.keras.layers.Conv2D(32, (3,3), activation='relu', input_shape=(28, 28, 1)),\n",
        "  tf.keras.layers.MaxPooling2D(2, 2),\n",
        "  tf.keras.layers.Flatten(),\n",
        "  tf.keras.layers.Dense(128, activation='relu'),\n",
        "  tf.keras.layers.Dense(10, activation='softmax')\n",
        "])\n",
        "model.compile(optimizer='adam', loss='sparse_categorical_crossentropy', metrics=['accuracy'])\n",
        "\n",
        "ACCU_THRESHOLD=0.98\n",
        "model.fit(train_data, training_labels, epochs=10, callbacks=[calllbacks])\n",
        "model.evaluate(test_data, testing_labels)\n"
      ],
      "execution_count": 30,
      "outputs": [
        {
          "output_type": "stream",
          "text": [
            "Epoch 1/10\n",
            "1875/1875 [==============================] - 4s 2ms/step - loss: 0.1495 - accuracy: 0.9560\n",
            "Epoch 2/10\n",
            "1875/1875 [==============================] - 4s 2ms/step - loss: 0.0509 - accuracy: 0.9843\n",
            "Epoch 3/10\n",
            "1875/1875 [==============================] - 4s 2ms/step - loss: 0.0320 - accuracy: 0.9899\n",
            "Epoch 4/10\n",
            "1875/1875 [==============================] - 4s 2ms/step - loss: 0.0205 - accuracy: 0.9937\n",
            "Epoch 5/10\n",
            "1875/1875 [==============================] - 4s 2ms/step - loss: 0.0140 - accuracy: 0.9955\n",
            "Epoch 6/10\n",
            "1875/1875 [==============================] - 4s 2ms/step - loss: 0.0116 - accuracy: 0.9962\n",
            "Epoch 7/10\n",
            "1875/1875 [==============================] - 4s 2ms/step - loss: 0.0079 - accuracy: 0.9974\n",
            "Epoch 8/10\n",
            "1875/1875 [==============================] - 4s 2ms/step - loss: 0.0065 - accuracy: 0.9976\n",
            "Epoch 9/10\n",
            "1875/1875 [==============================] - 4s 2ms/step - loss: 0.0052 - accuracy: 0.9986\n",
            "Epoch 10/10\n",
            "1875/1875 [==============================] - 4s 2ms/step - loss: 0.0052 - accuracy: 0.9981\n",
            "313/313 [==============================] - 1s 2ms/step - loss: 0.0451 - accuracy: 0.9883\n"
          ],
          "name": "stdout"
        },
        {
          "output_type": "execute_result",
          "data": {
            "text/plain": [
              "[0.04512358456850052, 0.9883000254631042]"
            ]
          },
          "metadata": {
            "tags": []
          },
          "execution_count": 30
        }
      ]
    },
    {
      "cell_type": "markdown",
      "metadata": {
        "id": "pQ1yfYPHkB3y",
        "colab_type": "text"
      },
      "source": [
        "Here implementing a callBack is not supposed to help me.... "
      ]
    },
    {
      "cell_type": "code",
      "metadata": {
        "id": "gPDc-GdujG_4",
        "colab_type": "code",
        "colab": {}
      },
      "source": [
        ""
      ],
      "execution_count": 0,
      "outputs": []
    }
  ]
}