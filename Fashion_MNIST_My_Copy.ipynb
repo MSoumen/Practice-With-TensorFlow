{
  "nbformat": 4,
  "nbformat_minor": 0,
  "metadata": {
    "colab": {
      "name": "Fashion-MNIST-My-Copy.ipynb",
      "provenance": [],
      "collapsed_sections": [],
      "authorship_tag": "ABX9TyOvpprn1v0iMAPIglA3LNNd",
      "include_colab_link": true
    },
    "kernelspec": {
      "name": "python3",
      "display_name": "Python 3"
    }
  },
  "cells": [
    {
      "cell_type": "markdown",
      "metadata": {
        "id": "view-in-github",
        "colab_type": "text"
      },
      "source": [
        "<a href=\"https://colab.research.google.com/github/MSoumen/Practice-With-TensorFlow/blob/master/Fashion_MNIST_My_Copy.ipynb\" target=\"_parent\"><img src=\"https://colab.research.google.com/assets/colab-badge.svg\" alt=\"Open In Colab\"/></a>"
      ]
    },
    {
      "cell_type": "code",
      "metadata": {
        "id": "q90faCgsA6zT",
        "colab_type": "code",
        "colab": {}
      },
      "source": [
        "import tensorflow as tf\n",
        "from tensorflow import keras"
      ],
      "execution_count": 0,
      "outputs": []
    },
    {
      "cell_type": "markdown",
      "metadata": {
        "id": "LjwJebJyE7e8",
        "colab_type": "text"
      },
      "source": [
        "# Importing Data"
      ]
    },
    {
      "cell_type": "code",
      "metadata": {
        "id": "BXAytuTgBVeT",
        "colab_type": "code",
        "colab": {
          "base_uri": "https://localhost:8080/",
          "height": 84
        },
        "outputId": "1b9e0eaa-3fef-446f-842f-902db3fd288f"
      },
      "source": [
        "fashion_mnist = keras.datasets.fashion_mnist\n",
        "(train_images, train_labels), (test_images, test_labels) = fashion_mnist.load_data()\n",
        "print('Size of Train_images:',train_images.shape)\n",
        "print('Size of Test_images:',test_images.shape)\n",
        "print('Size of Train_labels:',train_labels.shape)\n",
        "print('Size of Test_labels:',test_labels.shape)"
      ],
      "execution_count": 17,
      "outputs": [
        {
          "output_type": "stream",
          "text": [
            "Size of Train_images: (60000, 28, 28)\n",
            "Size of Test_images: (10000, 28, 28)\n",
            "Size of Train_labels: (60000,)\n",
            "Size of Test_labels: (10000,)\n"
          ],
          "name": "stdout"
        }
      ]
    },
    {
      "cell_type": "markdown",
      "metadata": {
        "id": "NE0mx0g-FA4e",
        "colab_type": "text"
      },
      "source": [
        "# Visualize Data"
      ]
    },
    {
      "cell_type": "code",
      "metadata": {
        "id": "YpM635yJB6yy",
        "colab_type": "code",
        "colab": {}
      },
      "source": [
        "import matplotlib.pyplot as plt\n",
        "import matplotlib"
      ],
      "execution_count": 0,
      "outputs": []
    },
    {
      "cell_type": "code",
      "metadata": {
        "id": "UPfYn7m-CkDo",
        "colab_type": "code",
        "colab": {
          "base_uri": "https://localhost:8080/",
          "height": 265
        },
        "outputId": "3d7254ed-33ab-49e5-905e-954eff04bb40"
      },
      "source": [
        "idx=100\n",
        "plt.imshow(train_images[idx], cmap='Greys')\n",
        "plt.axis('off')\n",
        "plt.show()\n",
        "print('Category =', train_labels[idx])"
      ],
      "execution_count": 14,
      "outputs": [
        {
          "output_type": "display_data",
          "data": {
            "image/png": "[encoded data removed]",
            "text/plain": [
              "<Figure size 432x288 with 1 Axes>"
            ]
          },
          "metadata": {
            "tags": [],
            "needs_background": "light"
          }
        },
        {
          "output_type": "stream",
          "text": [
            "Category = 8\n"
          ],
          "name": "stdout"
        }
      ]
    },
    {
      "cell_type": "markdown",
      "metadata": {
        "id": "2C6E4fr9FE55",
        "colab_type": "text"
      },
      "source": [
        "# Normalizing Data\n",
        "Here the greyscale values is in between 0-255. So, values are in high diffrence from each others. We have to make this data in between 0-1 for feeding the NN.\n",
        "One way is to do that is divide each items with 255. This is called Normalizing."
      ]
    },
    {
      "cell_type": "code",
      "metadata": {
        "id": "aOOZMbgYFLHb",
        "colab_type": "code",
        "colab": {}
      },
      "source": [
        "train_data = train_images / 255.0\n",
        "test_data = test_images / 255.0"
      ],
      "execution_count": 0,
      "outputs": []
    },
    {
      "cell_type": "markdown",
      "metadata": {
        "id": "nniFdlqLHqPa",
        "colab_type": "text"
      },
      "source": [
        "# Defining Model"
      ]
    },
    {
      "cell_type": "code",
      "metadata": {
        "id": "LlX57LAEGGd6",
        "colab_type": "code",
        "colab": {}
      },
      "source": [
        "model = keras.models.Sequential([keras.layers.Flatten(),  #sequential defines a sequence, Flatten() makes the multi-dim data into 1 dim   #input layer\n",
        "                                 keras.layers.Dense(128, activation= tf.nn.relu),     # Dense() adds layer in NN    # Hidden layer\n",
        "                                 keras.layers.Dense(10, activation=tf.nn.softmax)])   # softmax takes a list and picks the biggest    # output layer"
      ],
      "execution_count": 0,
      "outputs": []
    },
    {
      "cell_type": "code",
      "metadata": {
        "id": "wpzsFUIQI0s_",
        "colab_type": "code",
        "colab": {}
      },
      "source": [
        "# Compile the model to find Losss and optimize itto get optimized weights and biases\n",
        "model.compile(optimizer=tf.compat.v1.train.AdamOptimizer(), loss='sparse_categorical_crossentropy')"
      ],
      "execution_count": 0,
      "outputs": []
    },
    {
      "cell_type": "code",
      "metadata": {
        "id": "x2sGCdGZKp62",
        "colab_type": "code",
        "colab": {
          "base_uri": "https://localhost:8080/",
          "height": 706
        },
        "outputId": "cd22202c-3ab0-479a-9ee0-d8b6be505c23"
      },
      "source": [
        "# Fitting the data\n",
        "model.fit(train_data, train_labels, epochs=20)"
      ],
      "execution_count": 26,
      "outputs": [
        {
          "output_type": "stream",
          "text": [
            "Epoch 1/20\n",
            "1875/1875 [==============================] - 3s 2ms/step - loss: 0.3792\n",
            "Epoch 2/20\n",
            "1875/1875 [==============================] - 3s 2ms/step - loss: 0.3396\n",
            "Epoch 3/20\n",
            "1875/1875 [==============================] - 3s 2ms/step - loss: 0.3140\n",
            "Epoch 4/20\n",
            "1875/1875 [==============================] - 3s 2ms/step - loss: 0.2962\n",
            "Epoch 5/20\n",
            "1875/1875 [==============================] - 3s 2ms/step - loss: 0.2800\n",
            "Epoch 6/20\n",
            "1875/1875 [==============================] - 3s 2ms/step - loss: 0.2691\n",
            "Epoch 7/20\n",
            "1875/1875 [==============================] - 3s 2ms/step - loss: 0.2583\n",
            "Epoch 8/20\n",
            "1875/1875 [==============================] - 3s 2ms/step - loss: 0.2474\n",
            "Epoch 9/20\n",
            "1875/1875 [==============================] - 3s 2ms/step - loss: 0.2399\n",
            "Epoch 10/20\n",
            "1875/1875 [==============================] - 3s 2ms/step - loss: 0.2291\n",
            "Epoch 11/20\n",
            "1875/1875 [==============================] - 3s 2ms/step - loss: 0.2226\n",
            "Epoch 12/20\n",
            "1875/1875 [==============================] - 3s 2ms/step - loss: 0.2174\n",
            "Epoch 13/20\n",
            "1875/1875 [==============================] - 3s 2ms/step - loss: 0.2107\n",
            "Epoch 14/20\n",
            "1875/1875 [==============================] - 3s 2ms/step - loss: 0.2032\n",
            "Epoch 15/20\n",
            "1875/1875 [==============================] - 3s 2ms/step - loss: 0.1998\n",
            "Epoch 16/20\n",
            "1875/1875 [==============================] - 3s 2ms/step - loss: 0.1929\n",
            "Epoch 17/20\n",
            "1875/1875 [==============================] - 3s 2ms/step - loss: 0.1886\n",
            "Epoch 18/20\n",
            "1875/1875 [==============================] - 3s 2ms/step - loss: 0.1839\n",
            "Epoch 19/20\n",
            "1875/1875 [==============================] - 3s 2ms/step - loss: 0.1789\n",
            "Epoch 20/20\n",
            "1875/1875 [==============================] - 3s 2ms/step - loss: 0.1762\n"
          ],
          "name": "stdout"
        },
        {
          "output_type": "execute_result",
          "data": {
            "text/plain": [
              "<tensorflow.python.keras.callbacks.History at 0x7f9caee5e898>"
            ]
          },
          "metadata": {
            "tags": []
          },
          "execution_count": 26
        }
      ]
    },
    {
      "cell_type": "markdown",
      "metadata": {
        "id": "rZMWGoYCL4wn",
        "colab_type": "text"
      },
      "source": [
        "### Observations: \n",
        " - Loss = 0.1762\n",
        " - Accuracy = 0.8238 or 82%"
      ]
    },
    {
      "cell_type": "code",
      "metadata": {
        "id": "J0xFUxgvLNxr",
        "colab_type": "code",
        "colab": {
          "base_uri": "https://localhost:8080/",
          "height": 50
        },
        "outputId": "3d7ab922-c542-4d00-f98d-dbee81a01b24"
      },
      "source": [
        "# Evaluate on test set\n",
        "model.evaluate(test_data, test_labels)"
      ],
      "execution_count": 28,
      "outputs": [
        {
          "output_type": "stream",
          "text": [
            "313/313 [==============================] - 0s 1ms/step - loss: 0.3833\n"
          ],
          "name": "stdout"
        },
        {
          "output_type": "execute_result",
          "data": {
            "text/plain": [
              "0.3833487629890442"
            ]
          },
          "metadata": {
            "tags": []
          },
          "execution_count": 28
        }
      ]
    },
    {
      "cell_type": "markdown",
      "metadata": {
        "id": "Mhlel2gUMjnx",
        "colab_type": "text"
      },
      "source": [
        "### Observations:\n",
        " - Loss = 0.3833 or 38%\n",
        " - Accuracy = 62%"
      ]
    },
    {
      "cell_type": "markdown",
      "metadata": {
        "id": "5jIpFZRcOCoY",
        "colab_type": "text"
      },
      "source": [
        "# CallBack\n",
        "It is a class which controls the traning by continously checking loss with a given value."
      ]
    },
    {
      "cell_type": "code",
      "metadata": {
        "id": "xSmmvqqGMezg",
        "colab_type": "code",
        "colab": {}
      },
      "source": [
        "class callBack(tf.keras.callbacks.Callback):\n",
        "  def when_epoch_end(self, epoch, logs={}):\n",
        "    if(logs.get('loss')<0.3):      # when loss less than 30%\n",
        "      print('\\nLoss is low, cancelling traning !')\n",
        "      self.model.stop_training = True"
      ],
      "execution_count": 0,
      "outputs": []
    },
    {
      "cell_type": "code",
      "metadata": {
        "id": "siHrHdVVPbZR",
        "colab_type": "code",
        "colab": {
          "base_uri": "https://localhost:8080/",
          "height": 202
        },
        "outputId": "e4bfd5d3-92b8-4cbf-8b63-b5ea23e04d10"
      },
      "source": [
        "callBacks = callBack()\n",
        "model.fit(train_data, train_labels, epochs=5, callbacks=[callBacks])"
      ],
      "execution_count": 30,
      "outputs": [
        {
          "output_type": "stream",
          "text": [
            "Epoch 1/5\n",
            "1875/1875 [==============================] - 3s 2ms/step - loss: 0.1717\n",
            "Epoch 2/5\n",
            "1875/1875 [==============================] - 3s 2ms/step - loss: 0.1656\n",
            "Epoch 3/5\n",
            "1875/1875 [==============================] - 3s 2ms/step - loss: 0.1619\n",
            "Epoch 4/5\n",
            "1875/1875 [==============================] - 3s 2ms/step - loss: 0.1600\n",
            "Epoch 5/5\n",
            "1875/1875 [==============================] - 3s 2ms/step - loss: 0.1555\n"
          ],
          "name": "stdout"
        },
        {
          "output_type": "execute_result",
          "data": {
            "text/plain": [
              "<tensorflow.python.keras.callbacks.History at 0x7f9cac07ab00>"
            ]
          },
          "metadata": {
            "tags": []
          },
          "execution_count": 30
        }
      ]
    },
    {
      "cell_type": "code",
      "metadata": {
        "id": "ZfSPyi_kPuif",
        "colab_type": "code",
        "colab": {}
      },
      "source": [
        ""
      ],
      "execution_count": 0,
      "outputs": []
    }
  ]
}